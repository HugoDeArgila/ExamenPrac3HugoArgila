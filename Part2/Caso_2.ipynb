{
 "cells": [
  {
   "cell_type": "markdown",
   "metadata": {
    "application/vnd.databricks.v1+cell": {
     "cellMetadata": {},
     "inputWidgets": {},
     "nuid": "7bc88472-0819-44bb-a870-05c265cca4c5",
     "showTitle": false,
     "tableResultSettingsMap": {},
     "title": ""
    }
   },
   "source": [
    "# Encontrando insights de la UEFA Champions League"
   ]
  },
  {
   "cell_type": "markdown",
   "metadata": {
    "application/vnd.databricks.v1+cell": {
     "cellMetadata": {},
     "inputWidgets": {},
     "nuid": "dec9c196-3f29-444f-a2f7-13e3827b29ef",
     "showTitle": false,
     "tableResultSettingsMap": {},
     "title": ""
    }
   },
   "source": [
    "La Liga de Campeones de la UEFA, a menudo llamada Liga de Campeones, es una competencia anual de fútbol por excelencia que cautiva a los fanáticos de todo el mundo. Establecida en 1955 como la Copa de Clubes Campeones de Europa, evolucionó a la Liga de Campeones de la UEFA en 1992, ampliando su atractivo. El formato moderno cuenta con 32 equipos de clubes de primer nivel seleccionados en función de su desempeño en la liga nacional, lo que aumenta la intriga.  \n",
    "\n",
    "Este evento electrizante trasciende los deportes y se convierte en una celebración de la unidad, la cultura y el orgullo nacional. Los fanáticos, vestidos con los colores de sus países, crean una atmósfera eléctrica, lo que hace que el torneo sea tanto sobre los espectadores como sobre los jugadores. Financieramente, la Liga de Campeones es un salvavidas para los clubes, ya que aumenta los ingresos y ofrece oportunidades transformadoras. Sin embargo, genera debates sobre las disparidades de riqueza en el fútbol europeo.  \n",
    "\n",
    "La Liga de Campeones es sinónimo de rivalidades históricas, triunfos de los desvalidos y brillantez individual. Para los jugadores, representa la cima de su carrera, mientras que para los fanáticos, es un fenómeno cultural. El himno y los rituales icónicos enriquecen la experiencia futbolística. En 200 palabras, la UEFA Champions League es el epítome de la excelencia del fútbol europeo, que ofrece momentos inolvidables, recompensas económicas y un impacto cultural único, con 32 clubes de primer nivel que se suman a su atractivo."
   ]
  },
  {
   "cell_type": "markdown",
   "metadata": {
    "application/vnd.databricks.v1+cell": {
     "cellMetadata": {},
     "inputWidgets": {},
     "nuid": "3ff8fe53-6686-4ae2-8c5b-662e85535ff5",
     "showTitle": false,
     "tableResultSettingsMap": {},
     "title": ""
    }
   },
   "source": [
    "**Nombres de las tablas o ficheros a utilizar**:  \n",
    "[uefa_2020.csv](https://tajamar365.sharepoint.com/:x:/s/3405-MasterIA2024-2025/EQuW8d16tZJKpYZN6jR480sBgc1IYypAw9hGHKQARS560g?e=7TybBU)  \n",
    "[uefa_2021.csv](https://tajamar365.sharepoint.com/:x:/s/3405-MasterIA2024-2025/ESG8YBrjD3tBky3aGT0MwIABNt_PQxFVVYVlWMnZYUmV8g?e=VrYHtX)  \n",
    "[uefa_2022.csv](https://tajamar365.sharepoint.com/:x:/s/3405-MasterIA2024-2025/Ecf8O8U8sxJLoW9Bkd2ZVzgBb_gZc35mNcprnR9FMlzliQ?e=Vn3a6v)  \n",
    "- Todas las tablas tienen las mismas columnas y data types"
   ]
  },
  {
   "cell_type": "markdown",
   "metadata": {
    "application/vnd.databricks.v1+cell": {
     "cellMetadata": {},
     "inputWidgets": {},
     "nuid": "910b06ac-21ef-4f0c-bb95-9611f90d7635",
     "showTitle": false,
     "tableResultSettingsMap": {},
     "title": ""
    }
   },
   "source": [
    "| Column | Definition | Data type |\n",
    "|--------|------------|-----------|\n",
    "| `STAGE`| Stage of the March | `VARCHAR(50)` |\n",
    "| `DATE` | When the match occurred. | `DATE` |\n",
    "| `PENS` | Did the match end with penalty | `VARCHAR(50)` |\n",
    "| `PENS_HOME_SCORE` | In case of penalty, score by home team | `VARCHAR(50)` |\n",
    "| `PENS_AWAY_SCORE` | In case of penalty, score by away team | `VARCHAR(50)` |\n",
    "| `TEAM_NAME_HOME` | Team home name | `VARCHAR(50)` |\n",
    "| `TEAM_NAME_AWAY`| Team away  name | `VARCHAR(50)` |\n",
    "| `TEAM_HOME_SCORE` | Team home score | `NUMBER` |\n",
    "| `TEAM_AWAY_SCORE` | Team away score | `NUMBER` |\n",
    "| `POSSESSION_HOME` | Ball possession for the home team | `FLOAT` |\n",
    "| `POSSESSION_AWAY` | Ball possession for the away team | `FLOAT` |\n",
    "| `TOTAL_SHOTS_HOME` | Number of shots by the home team | `NUMBER` |\n",
    "| `TOTAL_SHOTS_AWAY` | Number of shots by the away team | `NUMBER`\n",
    "| `SHOTS_ON_TARGET_HOME` | Total shot for home team | `FLOAT` |\n",
    "| `SHOTS_ON_TARGET_AWAY` | Total shot for away team | `FLOAT` |\n",
    "| `DUELS_WON_HOME` | duel win possession of ball - for home team | `NUMBER` |\n",
    "| `DUELS_WON_AWAY` | duel win possession of ball - for away team | `NUMBER` \n",
    "| `PREDICTION_TEAM_HOME_WIN` | Probability of home team to win | `FLOAT` |\n",
    "| `PREDICTION_DRAW` | Probability of draw | `FLOAT` |\n",
    "| `PREDICTION_TEAM_AWAY_WIN` | Probability of away team to win | `FLOAT` |\n",
    "| `LOCATION` | Stadium where the match was held | `VARCHAR(50)` |"
   ]
  },
  {
   "cell_type": "markdown",
   "metadata": {
    "application/vnd.databricks.v1+cell": {
     "cellMetadata": {},
     "inputWidgets": {},
     "nuid": "b6ed3067-8a31-45a7-9120-766336560fef",
     "showTitle": false,
     "tableResultSettingsMap": {},
     "title": ""
    }
   },
   "source": [
    "### Requerimientos:  \n",
    "-Puedes utilizar SQL o PySpark"
   ]
  },
  {
   "cell_type": "markdown",
   "metadata": {
    "application/vnd.databricks.v1+cell": {
     "cellMetadata": {},
     "inputWidgets": {},
     "nuid": "96872dad-7ed6-4372-84e9-763aa2d6c83f",
     "showTitle": false,
     "tableResultSettingsMap": {},
     "title": ""
    }
   },
   "source": [
    "1. Encuentra los 3 equipos que anotaron más goles jugando en su estadio en la UEFA Champions League 2020-21. El resultado debe contener dos columnas: TEAM_NAME_HOME y TEAM_HOME_SCORE ordenadas en orden descendente de TEAM_HOME_SCORE. Guarda la consulta (o el notebook) como TEAM_HOME_WITH_MOST_GOALS."
   ]
  },
  {
   "cell_type": "code",
   "execution_count": 0,
   "metadata": {
    "application/vnd.databricks.v1+cell": {
     "cellMetadata": {
      "byteLimit": 2048000,
      "rowLimit": 10000
     },
     "inputWidgets": {},
     "nuid": "ccfd4744-03f8-466a-af05-b5321cd8aba1",
     "showTitle": false,
     "tableResultSettingsMap": {},
     "title": ""
    }
   },
   "outputs": [
    {
     "output_type": "stream",
     "name": "stdout",
     "output_type": "stream",
     "text": [
      "+-----------------+----------+\n|   TEAM_NAME_HOME|HOME_GOALS|\n+-----------------+----------+\n| Manchester City |        15|\n|     Real Madrid |        14|\n|   Bayern Munich |        13|\n+-----------------+----------+\n\n"
     ]
    }
   ],
   "source": [
    "from pyspark.sql import SparkSession\n",
    "from pyspark.sql.functions import col\n",
    "\n",
    "# Crear una sesión de Spark\n",
    "spark = SparkSession.builder.appName(\"ChampionsLeague2020-21\").getOrCreate()\n",
    "\n",
    "# Leer el archivo CSV\n",
    "file_path = \"dbfs:/FileStore/shared_uploads/uefa_2020.csv\"\n",
    "df = spark.read.csv(file_path, header=True, inferSchema=True)\n",
    "\n",
    "# Filtrar los partidos jugados en casa (en el estadio del equipo local)\n",
    "df_home_games = df.filter(col(\"TEAM_HOME_SCORE\").isNotNull())\n",
    "\n",
    "# Agrupar por el nombre del equipo local (TEAM_NAME_HOME) y sumar los goles en casa (TEAM_HOME_SCORE)\n",
    "df_team_goals = df_home_games.groupBy(\"TEAM_NAME_HOME\").sum(\"TEAM_HOME_SCORE\")\n",
    "\n",
    "# Renombrar la columna de suma de goles para que sea más clara\n",
    "df_team_goals = df_team_goals.withColumnRenamed(\"sum(TEAM_HOME_SCORE)\", \"HOME_GOALS\")\n",
    "\n",
    "# Ordenar por los goles en casa en orden descendente\n",
    "df_team_goals = df_team_goals.orderBy(col(\"HOME_GOALS\").desc())\n",
    "\n",
    "# Seleccionar los 3 equipos con más goles en casa\n",
    "df_top_teams = df_team_goals.limit(3)\n",
    "\n",
    "# Mostrar el resultado final\n",
    "df_top_teams.show()"
   ]
  },
  {
   "cell_type": "markdown",
   "metadata": {
    "application/vnd.databricks.v1+cell": {
     "cellMetadata": {},
     "inputWidgets": {},
     "nuid": "b375e92e-5c96-4ee8-8c35-29b8e7ab887f",
     "showTitle": false,
     "tableResultSettingsMap": {},
     "title": ""
    }
   },
   "source": [
    "2. Encuentra el equipo con posesión mayoritaria la mayor cantidad de veces durante la UEFA Champions League 2021-22. El resultado debe incluir dos columnas: TEAM_NAME y GAME_COUNT, que es la cantidad de veces que el equipo tuvo posesión mayoritaria durante un partido de fútbol. Guarda esta consulta (o el notebook) como TEAM_WITH_MAJORITY_POSSESSION"
   ]
  },
  {
   "cell_type": "code",
   "execution_count": 0,
   "metadata": {
    "application/vnd.databricks.v1+cell": {
     "cellMetadata": {
      "byteLimit": 2048000,
      "rowLimit": 10000
     },
     "inputWidgets": {},
     "nuid": "e57b0324-f7fb-4d33-8bd5-5b2c93591402",
     "showTitle": false,
     "tableResultSettingsMap": {},
     "title": ""
    }
   },
   "outputs": [
    {
     "output_type": "display_data",
     "data": {
      "text/html": [
       "<style scoped>\n",
       "  .table-result-container {\n",
       "    max-height: 300px;\n",
       "    overflow: auto;\n",
       "  }\n",
       "  table, th, td {\n",
       "    border: 1px solid black;\n",
       "    border-collapse: collapse;\n",
       "  }\n",
       "  th, td {\n",
       "    padding: 5px;\n",
       "  }\n",
       "  th {\n",
       "    text-align: left;\n",
       "  }\n",
       "</style><div class='table-result-container'><table class='table-result'><thead style='background-color: white'><tr><th>TEAM_NAME</th><th>POSSESION_WIN</th></tr></thead><tbody><tr><td>Real Madrid</td><td>13</td></tr></tbody></table></div>"
      ]
     },
     "metadata": {
      "application/vnd.databricks.v1+output": {
       "addedWidgets": {},
       "aggData": [],
       "aggError": "",
       "aggOverflow": false,
       "aggSchema": [],
       "aggSeriesLimitReached": false,
       "aggType": "",
       "arguments": {},
       "columnCustomDisplayInfos": {},
       "data": [
        [
         "Real Madrid",
         13
        ]
       ],
       "datasetInfos": [],
       "dbfsResultPath": null,
       "isJsonSchema": true,
       "metadata": {},
       "overflow": false,
       "plotOptions": {
        "customPlotOptions": {},
        "displayType": "table",
        "pivotAggregation": null,
        "pivotColumns": null,
        "xColumns": null,
        "yColumns": null
       },
       "removedWidgets": [],
       "schema": [
        {
         "metadata": "{}",
         "name": "TEAM_NAME",
         "type": "\"string\""
        },
        {
         "metadata": "{}",
         "name": "POSSESION_WIN",
         "type": "\"long\""
        }
       ],
       "type": "table"
      }
     },
     "output_type": "display_data"
    }
   ],
   "source": [
    "from pyspark.sql import SparkSession\n",
    "from pyspark.sql import functions as F\n",
    "\n",
    "# Crear una sesión de Spark\n",
    "spark = SparkSession.builder.appName(\"ChampionsLeague2021-22\").getOrCreate()\n",
    "\n",
    "# Leer el archivo CSV\n",
    "file_path = \"dbfs:/FileStore/shared_uploads/uefa_2021.csv\"\n",
    "df = spark.read.csv(file_path, header=True, inferSchema=True)\n",
    "\n",
    "# Columnas que necesitamos: POSSESSION_HOME, POSSESSION_AWAY , TEAM_NAME_HOME , TEAM_NAME_AWAY\n",
    "\n",
    "#Juntar las columnas POSSESSION_HOME y POSSESSION_AWAY en POSSESION y las columnas TEAM_NAME_HOME y TEAM_NAME_AWAY en TEAM_NAME\n",
    "df_combined = df.select(\n",
    "    F.col(\"POSSESSION_HOME\").alias(\"POSSESION\"),\n",
    "    F.col(\"TEAM_NAME_HOME\").alias(\"TEAM_NAME\")\n",
    ").union(\n",
    "    df.select(\n",
    "        F.col(\"POSSESSION_AWAY\").alias(\"POSSESION\"),\n",
    "        F.col(\"TEAM_NAME_AWAY\").alias(\"TEAM_NAME\")\n",
    "    )\n",
    ")\n",
    "\n",
    "df_final = df_combined.groupBy(\"TEAM_NAME\").agg(F.count(\"POSSESION\").alias(\"POSSESION_WIN\")).orderBy(\"POSSESION_WIN\", ascending=False).limit(1)\n",
    "df_final.display()\n"
   ]
  },
  {
   "cell_type": "markdown",
   "metadata": {
    "application/vnd.databricks.v1+cell": {
     "cellMetadata": {},
     "inputWidgets": {},
     "nuid": "7c960a38-f12d-4b88-aaad-b70de0c2323f",
     "showTitle": false,
     "tableResultSettingsMap": {},
     "title": ""
    }
   },
   "source": [
    "3. Encuentra la lista de equipos de cada fase del juego que ganaron el duelo en un partido pero terminaron perdiendo el juego en el Campeonato de la UEFA 2022-23. El resultado debe contener dos columnas: STAGE y TEAM_LOST. Guarda la consulta (o el notebook) como TEAM_WON_DUEL_LOST_GAME_STAGE_WISE."
   ]
  },
  {
   "cell_type": "code",
   "execution_count": 0,
   "metadata": {
    "application/vnd.databricks.v1+cell": {
     "cellMetadata": {
      "byteLimit": 2048000,
      "rowLimit": 10000
     },
     "inputWidgets": {},
     "nuid": "5b5a904a-58be-4e45-8a29-d16b3b8fa65f",
     "showTitle": false,
     "tableResultSettingsMap": {},
     "title": ""
    }
   },
   "outputs": [
    {
     "output_type": "display_data",
     "data": {
      "text/html": [
       "<style scoped>\n",
       "  .table-result-container {\n",
       "    max-height: 300px;\n",
       "    overflow: auto;\n",
       "  }\n",
       "  table, th, td {\n",
       "    border: 1px solid black;\n",
       "    border-collapse: collapse;\n",
       "  }\n",
       "  th, td {\n",
       "    padding: 5px;\n",
       "  }\n",
       "  th {\n",
       "    text-align: left;\n",
       "  }\n",
       "</style><div class='table-result-container'><table class='table-result'><thead style='background-color: white'><tr><th>STAGE</th><th>TEAM_LOST</th></tr></thead><tbody><tr><td> Group stage: Matchday 1 </td><td>Chelsea</td></tr><tr><td> Group stage: Matchday 1 </td><td>K�benhavn</td></tr><tr><td> Group stage: Matchday 1 </td><td>Juventus</td></tr><tr><td> Group stage: Matchday 1 </td><td>Maccabi Haifa</td></tr><tr><td> Group stage: Matchday 1 </td><td>Rangers</td></tr><tr><td> Group stage: Matchday 1 </td><td>Liverpool</td></tr><tr><td> Group stage: Matchday 1 </td><td>Porto</td></tr><tr><td> Group stage: Matchday 1 </td><td>Bayer Leverkusen</td></tr><tr><td> Group stage: Matchday 1 </td><td>Viktoria Plze?</td></tr><tr><td> Group stage: Matchday 1 </td><td>Marseille</td></tr><tr><td> Group stage: Matchday 2 </td><td>Ajax</td></tr><tr><td> Group stage: Matchday 2 </td><td>Atletico Madrid</td></tr><tr><td> Group stage: Matchday 2 </td><td>Barcelona</td></tr><tr><td> Group stage: Matchday 2 </td><td>Tottenham Hotspur</td></tr><tr><td> Group stage: Matchday 2 </td><td>RB Leipzig</td></tr><tr><td> Group stage: Matchday 3 </td><td>Rangers</td></tr><tr><td> Group stage: Matchday 3 </td><td>Atletico Madrid</td></tr><tr><td> Group stage: Matchday 3 </td><td>Bayer Leverkusen</td></tr><tr><td> Group stage: Matchday 3 </td><td>Viktoria Plze?</td></tr><tr><td> Group stage: Matchday 3 </td><td>Barcelona</td></tr><tr><td> Group stage: Matchday 3 </td><td>Sporting CP</td></tr><tr><td> Group stage: Matchday 3 </td><td>Dinamo Zagreb</td></tr><tr><td> Group stage: Matchday 3 </td><td>AC Milan</td></tr><tr><td> Group stage: Matchday 3 </td><td>Celtic</td></tr><tr><td> Group stage: Matchday 3 </td><td>K�benhavn</td></tr><tr><td> Group stage: Matchday 3 </td><td>Maccabi Haifa</td></tr><tr><td> Group stage: Matchday 4 </td><td>Juventus</td></tr><tr><td> Group stage: Matchday 4 </td><td>Ajax</td></tr><tr><td> Group stage: Matchday 4 </td><td>Eintracht Frankfurt</td></tr><tr><td> Group stage: Matchday 5 </td><td>Real Madrid</td></tr><tr><td> Group stage: Matchday 5 </td><td>K�benhavn</td></tr><tr><td> Group stage: Matchday 5 </td><td>Juventus</td></tr><tr><td> Group stage: Matchday 5 </td><td>Maccabi Haifa</td></tr><tr><td> Group stage: Matchday 5 </td><td>Rangers</td></tr><tr><td> Group stage: Matchday 5 </td><td>Viktoria Plze?</td></tr><tr><td> Group stage: Matchday 5 </td><td>Marseille</td></tr><tr><td> Group stage: Matchday 6 </td><td>Napoli</td></tr><tr><td> Group stage: Matchday 6 </td><td>Atletico Madrid</td></tr><tr><td> Group stage: Matchday 6 </td><td>Internazionale</td></tr><tr><td> Group stage: Matchday 6 </td><td>Salzburg</td></tr><tr><td> Group stage: Matchday 6 </td><td>Dinamo Zagreb</td></tr><tr><td>Group stage: Matchday 6 </td><td>Celtic</td></tr><tr><td>Group stage: Matchday 6 </td><td>Sevilla</td></tr><tr><td> Round of 16 first leg </td><td>Chelsea</td></tr><tr><td> Round of 16 first leg </td><td>Tottenham</td></tr><tr><td> Round of 16 first leg </td><td>FC Porto</td></tr><tr><td> Round of 16 second leg </td><td>Paris Saint-Germain</td></tr><tr><td> Round of 16 second leg </td><td>Dortmund</td></tr><tr><td> Round of 16 second leg </td><td>Eintracht Frankfurt</td></tr><tr><td> Round of 16 second leg </td><td>Liverpool</td></tr><tr><td> Round of 16 second leg </td><td>Leipzig</td></tr><tr><td> Quarter-finals first leg </td><td>Napoli</td></tr><tr><td> Quarter-finals first leg </td><td>Chelsea</td></tr><tr><td> Semi-finals second leg </td><td>Real Madrid</td></tr><tr><td> Semi-finals second leg </td><td>Milan</td></tr><tr><td> Final </td><td>Inter</td></tr></tbody></table></div>"
      ]
     },
     "metadata": {
      "application/vnd.databricks.v1+output": {
       "addedWidgets": {},
       "aggData": [],
       "aggError": "",
       "aggOverflow": false,
       "aggSchema": [],
       "aggSeriesLimitReached": false,
       "aggType": "",
       "arguments": {},
       "columnCustomDisplayInfos": {},
       "data": [
        [
         " Group stage: Matchday 1 ",
         "Chelsea"
        ],
        [
         " Group stage: Matchday 1 ",
         "K�benhavn"
        ],
        [
         " Group stage: Matchday 1 ",
         "Juventus"
        ],
        [
         " Group stage: Matchday 1 ",
         "Maccabi Haifa"
        ],
        [
         " Group stage: Matchday 1 ",
         "Rangers"
        ],
        [
         " Group stage: Matchday 1 ",
         "Liverpool"
        ],
        [
         " Group stage: Matchday 1 ",
         "Porto"
        ],
        [
         " Group stage: Matchday 1 ",
         "Bayer Leverkusen"
        ],
        [
         " Group stage: Matchday 1 ",
         "Viktoria Plze?"
        ],
        [
         " Group stage: Matchday 1 ",
         "Marseille"
        ],
        [
         " Group stage: Matchday 2 ",
         "Ajax"
        ],
        [
         " Group stage: Matchday 2 ",
         "Atletico Madrid"
        ],
        [
         " Group stage: Matchday 2 ",
         "Barcelona"
        ],
        [
         " Group stage: Matchday 2 ",
         "Tottenham Hotspur"
        ],
        [
         " Group stage: Matchday 2 ",
         "RB Leipzig"
        ],
        [
         " Group stage: Matchday 3 ",
         "Rangers"
        ],
        [
         " Group stage: Matchday 3 ",
         "Atletico Madrid"
        ],
        [
         " Group stage: Matchday 3 ",
         "Bayer Leverkusen"
        ],
        [
         " Group stage: Matchday 3 ",
         "Viktoria Plze?"
        ],
        [
         " Group stage: Matchday 3 ",
         "Barcelona"
        ],
        [
         " Group stage: Matchday 3 ",
         "Sporting CP"
        ],
        [
         " Group stage: Matchday 3 ",
         "Dinamo Zagreb"
        ],
        [
         " Group stage: Matchday 3 ",
         "AC Milan"
        ],
        [
         " Group stage: Matchday 3 ",
         "Celtic"
        ],
        [
         " Group stage: Matchday 3 ",
         "K�benhavn"
        ],
        [
         " Group stage: Matchday 3 ",
         "Maccabi Haifa"
        ],
        [
         " Group stage: Matchday 4 ",
         "Juventus"
        ],
        [
         " Group stage: Matchday 4 ",
         "Ajax"
        ],
        [
         " Group stage: Matchday 4 ",
         "Eintracht Frankfurt"
        ],
        [
         " Group stage: Matchday 5 ",
         "Real Madrid"
        ],
        [
         " Group stage: Matchday 5 ",
         "K�benhavn"
        ],
        [
         " Group stage: Matchday 5 ",
         "Juventus"
        ],
        [
         " Group stage: Matchday 5 ",
         "Maccabi Haifa"
        ],
        [
         " Group stage: Matchday 5 ",
         "Rangers"
        ],
        [
         " Group stage: Matchday 5 ",
         "Viktoria Plze?"
        ],
        [
         " Group stage: Matchday 5 ",
         "Marseille"
        ],
        [
         " Group stage: Matchday 6 ",
         "Napoli"
        ],
        [
         " Group stage: Matchday 6 ",
         "Atletico Madrid"
        ],
        [
         " Group stage: Matchday 6 ",
         "Internazionale"
        ],
        [
         " Group stage: Matchday 6 ",
         "Salzburg"
        ],
        [
         " Group stage: Matchday 6 ",
         "Dinamo Zagreb"
        ],
        [
         "Group stage: Matchday 6 ",
         "Celtic"
        ],
        [
         "Group stage: Matchday 6 ",
         "Sevilla"
        ],
        [
         " Round of 16 first leg ",
         "Chelsea"
        ],
        [
         " Round of 16 first leg ",
         "Tottenham"
        ],
        [
         " Round of 16 first leg ",
         "FC Porto"
        ],
        [
         " Round of 16 second leg ",
         "Paris Saint-Germain"
        ],
        [
         " Round of 16 second leg ",
         "Dortmund"
        ],
        [
         " Round of 16 second leg ",
         "Eintracht Frankfurt"
        ],
        [
         " Round of 16 second leg ",
         "Liverpool"
        ],
        [
         " Round of 16 second leg ",
         "Leipzig"
        ],
        [
         " Quarter-finals first leg ",
         "Napoli"
        ],
        [
         " Quarter-finals first leg ",
         "Chelsea"
        ],
        [
         " Semi-finals second leg ",
         "Real Madrid"
        ],
        [
         " Semi-finals second leg ",
         "Milan"
        ],
        [
         " Final ",
         "Inter"
        ]
       ],
       "datasetInfos": [],
       "dbfsResultPath": null,
       "isJsonSchema": true,
       "metadata": {},
       "overflow": false,
       "plotOptions": {
        "customPlotOptions": {},
        "displayType": "table",
        "pivotAggregation": null,
        "pivotColumns": null,
        "xColumns": null,
        "yColumns": null
       },
       "removedWidgets": [],
       "schema": [
        {
         "metadata": "{}",
         "name": "STAGE",
         "type": "\"string\""
        },
        {
         "metadata": "{}",
         "name": "TEAM_LOST",
         "type": "\"string\""
        }
       ],
       "type": "table"
      }
     },
     "output_type": "display_data"
    }
   ],
   "source": [
    "from pyspark.sql import SparkSession\n",
    "from pyspark.sql import functions as F\n",
    "\n",
    "# Crear una sesión de Spark\n",
    "spark = SparkSession.builder.appName(\"UEFA2022-23\").getOrCreate()\n",
    "\n",
    "# Leer el archivo CSV (suponiendo que el CSV ya está cargado)\n",
    "file_path = \"dbfs:/FileStore/shared_uploads/uefa_2022.csv\"\n",
    "df = spark.read.csv(file_path, header=True, inferSchema=True)\n",
    "\n",
    "# Filtramos los equipos que ganaron más duelos pero perdieron el juego\n",
    "df_filtered = df.filter(\n",
    "    ((F.col(\"DUELS_WON_HOME\") > F.col(\"DUELS_WON_AWAY\")) & (F.col(\"TEAM_HOME_SCORE\") < F.col(\"TEAM_AWAY_SCORE\"))) |  # Local ganó los duelos pero perdió el juego\n",
    "    ((F.col(\"DUELS_WON_AWAY\") > F.col(\"DUELS_WON_HOME\")) & (F.col(\"TEAM_AWAY_SCORE\") < F.col(\"TEAM_HOME_SCORE\")))   # Visitante ganó los duelos pero perdió el juego\n",
    ")\n",
    "\n",
    "# Seleccionamos las columnas necesarias y renombramos para los resultados\n",
    "df_result = df_filtered.select(\n",
    "    \"STAGE\",\n",
    "    # Si el local ganó los duelos pero perdió el juego, entonces el local es el que perdió\n",
    "    F.when(F.col(\"DUELS_WON_HOME\") > F.col(\"DUELS_WON_AWAY\"), F.col(\"TEAM_NAME_HOME\"))\n",
    "     .otherwise(F.col(\"TEAM_NAME_AWAY\")).alias(\"TEAM_LOST\")\n",
    ")\n",
    "\n",
    "# Mostramos el resultado final\n",
    "df_result.display()\n"
   ]
  }
 ],
 "metadata": {
  "application/vnd.databricks.v1+notebook": {
   "dashboards": [],
   "environmentMetadata": null,
   "language": "python",
   "notebookMetadata": {
    "pythonIndentUnit": 4
   },
   "notebookName": "Caso_2",
   "widgets": {}
  }
 },
 "nbformat": 4,
 "nbformat_minor": 0
}
